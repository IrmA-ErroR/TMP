{
 "cells": [
  {
   "cell_type": "markdown",
   "id": "4eb6b4af",
   "metadata": {},
   "source": [
    "# Iterator"
   ]
  },
  {
   "cell_type": "code",
   "execution_count": 66,
   "id": "bc7ea030",
   "metadata": {},
   "outputs": [],
   "source": [
    "class BurgerIterator:\n",
    "    def __init__(self):\n",
    "        self.burger_parts = [\"булочка\", \" лук \", \" соус \", \" котлета \", \"булочка\"]\n",
    "        self.additional_parts = []\n",
    "        self.current_index = 0\n",
    "\n",
    "    def include_cucumber(self, cucumber=False):\n",
    "        if cucumber:\n",
    "            self.additional_parts.append(\" огурчик \")\n",
    "\n",
    "    def include_cheese(self, cheese=False):\n",
    "        if cheese:\n",
    "            self.additional_parts.append(\" сыр \")\n",
    "\n",
    "    def include_tomato(self, tomato=False):\n",
    "        if tomato:\n",
    "            self.additional_parts.append(\" помидор \")\n",
    "\n",
    "    def include_salad(self, salad=False):\n",
    "        if salad:\n",
    "            self.additional_parts.append(\" салат \")\n",
    "\n",
    "    def include_bacon(self, bacon=False):\n",
    "        if bacon:\n",
    "            self.additional_parts.append(\" бекон \")\n",
    "    \n",
    "    def print_burger(self):\n",
    "        print(*self.burger_parts[:4], *self.additional_parts, self.burger_parts[-1])"
   ]
  },
  {
   "cell_type": "code",
   "execution_count": 67,
   "id": "70e47d3e",
   "metadata": {},
   "outputs": [
    {
     "name": "stdout",
     "output_type": "stream",
     "text": [
      "булочка  лук   соус   котлета  булочка\n"
     ]
    }
   ],
   "source": [
    "burger = BurgerIterator()\n",
    "burger.print_burger()"
   ]
  },
  {
   "cell_type": "code",
   "execution_count": 68,
   "id": "8735bf53",
   "metadata": {},
   "outputs": [
    {
     "name": "stdout",
     "output_type": "stream",
     "text": [
      "булочка  лук   соус   котлета   бекон  булочка\n"
     ]
    }
   ],
   "source": [
    "burger.include_bacon(True)\n",
    "burger.print_burger()"
   ]
  },
  {
   "cell_type": "markdown",
   "id": "44fe0be0",
   "metadata": {},
   "source": [
    "# Visitor"
   ]
  },
  {
   "cell_type": "code",
   "execution_count": 76,
   "id": "62df9c74",
   "metadata": {},
   "outputs": [
    {
     "name": "stdout",
     "output_type": "stream",
     "text": [
      "булочка  лук   соус   котлета   соленый огурчик   сыр  булочка\n"
     ]
    }
   ],
   "source": [
    "class CheeseBurger(BurgerIterator):\n",
    "    def __init__(self):\n",
    "        super().__init__()\n",
    "\n",
    "    def include_additional(self):\n",
    "        self.additional_parts.insert(-1, \" сыр \")\n",
    "        self.additional_parts.insert(-1, \" соленый огурчик \")\n",
    "        \n",
    "\n",
    "\n",
    "# Пример использования\n",
    "cheeseburger = CheeseBurger()\n",
    "cheeseburger.include_additional()\n",
    "cheeseburger.print_burger()"
   ]
  },
  {
   "cell_type": "code",
   "execution_count": 77,
   "id": "3ffb9b9d",
   "metadata": {},
   "outputs": [],
   "source": [
    "class HealthyBurger(BurgerIterator):\n",
    "    def __init__(self):\n",
    "        super().__init__()\n",
    "        self.burger_parts = [\"салат\", \" лук \", \" соус \", \" котлета \", \" салат \"]\n",
    "\n",
    "    def include_bacon(self, bacon=False):\n",
    "        # Ничего не делаем, так как в здоровом бургере нельзя добавлять бекон\n",
    "        pass\n",
    "\n",
    "    def include_cheese(self, cheese=False):\n",
    "        # Ничего не делаем, так как в здоровом бургере нельзя добавлять сыр\n",
    "        pass\n"
   ]
  },
  {
   "cell_type": "code",
   "execution_count": 78,
   "id": "99928f27",
   "metadata": {},
   "outputs": [
    {
     "name": "stdout",
     "output_type": "stream",
     "text": [
      "салат  лук   соус   котлета   помидор   салат \n"
     ]
    }
   ],
   "source": [
    "# Пример использования\n",
    "h_burger = HealthyBurger()\n",
    "h_burger.include_tomato(True)\n",
    "h_burger.print_burger()"
   ]
  },
  {
   "cell_type": "code",
   "execution_count": 79,
   "id": "1d5109e6",
   "metadata": {},
   "outputs": [
    {
     "name": "stdout",
     "output_type": "stream",
     "text": [
      "салат  лук   соус   котлета   помидор   салат \n"
     ]
    }
   ],
   "source": [
    "h_burger.include_cheese(True)\n",
    "h_burger.print_burger()"
   ]
  },
  {
   "cell_type": "code",
   "execution_count": null,
   "id": "f90f2573",
   "metadata": {},
   "outputs": [],
   "source": []
  }
 ],
 "metadata": {
  "kernelspec": {
   "display_name": "Python 3 (ipykernel)",
   "language": "python",
   "name": "python3"
  },
  "language_info": {
   "codemirror_mode": {
    "name": "ipython",
    "version": 3
   },
   "file_extension": ".py",
   "mimetype": "text/x-python",
   "name": "python",
   "nbconvert_exporter": "python",
   "pygments_lexer": "ipython3",
   "version": "3.9.13"
  }
 },
 "nbformat": 4,
 "nbformat_minor": 5
}
